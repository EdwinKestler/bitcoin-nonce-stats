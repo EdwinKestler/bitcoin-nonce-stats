{
 "cells": [
  {
   "cell_type": "markdown",
   "metadata": {},
   "source": [
    "A notebook for nonce statistics analysis\n",
    "\n",
    "Written by Elad Verbin, https://eladve.github.io/\n",
    "\n",
    "Data and inspiration provided by plan฿, twitter @100trillionUSD  \n",
    "https://twitter.com/100trillionUSD/status/1082031511984095234\n"
   ]
  },
  {
   "cell_type": "code",
   "execution_count": 1,
   "metadata": {},
   "outputs": [],
   "source": [
    "import pandas as pd\n",
    "import numpy as np\n",
    "import matplotlib.pyplot as plt"
   ]
  },
  {
   "cell_type": "markdown",
   "metadata": {},
   "source": [
    "# Setup DataFrame for Nonce Analysis"
   ]
  },
  {
   "cell_type": "code",
   "execution_count": 2,
   "metadata": {},
   "outputs": [],
   "source": [
    "df = pd.read_csv(\"bitcoin_nonces.txt\", delim_whitespace = True, header = None, names = [\"BlockHeight\", \"TimeStamp\", \"NumTxs\", \"Difficulty\", \"Nonce\"])"
   ]
  },
  {
   "cell_type": "code",
   "execution_count": 3,
   "metadata": {},
   "outputs": [
    {
     "data": {
      "text/html": [
       "<div>\n",
       "<style scoped>\n",
       "    .dataframe tbody tr th:only-of-type {\n",
       "        vertical-align: middle;\n",
       "    }\n",
       "\n",
       "    .dataframe tbody tr th {\n",
       "        vertical-align: top;\n",
       "    }\n",
       "\n",
       "    .dataframe thead th {\n",
       "        text-align: right;\n",
       "    }\n",
       "</style>\n",
       "<table border=\"1\" class=\"dataframe\">\n",
       "  <thead>\n",
       "    <tr style=\"text-align: right;\">\n",
       "      <th></th>\n",
       "      <th>BlockHeight</th>\n",
       "      <th>TimeStamp</th>\n",
       "      <th>NumTxs</th>\n",
       "      <th>Difficulty</th>\n",
       "      <th>Nonce</th>\n",
       "    </tr>\n",
       "  </thead>\n",
       "  <tbody>\n",
       "    <tr>\n",
       "      <th>556990</th>\n",
       "      <td>556990</td>\n",
       "      <td>1546609771</td>\n",
       "      <td>1720</td>\n",
       "      <td>5.618596e+12</td>\n",
       "      <td>2886554666</td>\n",
       "    </tr>\n",
       "    <tr>\n",
       "      <th>556991</th>\n",
       "      <td>556991</td>\n",
       "      <td>1546610178</td>\n",
       "      <td>2425</td>\n",
       "      <td>5.618596e+12</td>\n",
       "      <td>1282830093</td>\n",
       "    </tr>\n",
       "    <tr>\n",
       "      <th>556992</th>\n",
       "      <td>556992</td>\n",
       "      <td>1546610674</td>\n",
       "      <td>1841</td>\n",
       "      <td>5.618596e+12</td>\n",
       "      <td>2304864096</td>\n",
       "    </tr>\n",
       "    <tr>\n",
       "      <th>556993</th>\n",
       "      <td>556993</td>\n",
       "      <td>1546611533</td>\n",
       "      <td>1539</td>\n",
       "      <td>5.618596e+12</td>\n",
       "      <td>1589175152</td>\n",
       "    </tr>\n",
       "    <tr>\n",
       "      <th>556994</th>\n",
       "      <td>556994</td>\n",
       "      <td>1546612358</td>\n",
       "      <td>2364</td>\n",
       "      <td>5.618596e+12</td>\n",
       "      <td>3093143333</td>\n",
       "    </tr>\n",
       "  </tbody>\n",
       "</table>\n",
       "</div>"
      ],
      "text/plain": [
       "        BlockHeight   TimeStamp  NumTxs    Difficulty       Nonce\n",
       "556990       556990  1546609771    1720  5.618596e+12  2886554666\n",
       "556991       556991  1546610178    2425  5.618596e+12  1282830093\n",
       "556992       556992  1546610674    1841  5.618596e+12  2304864096\n",
       "556993       556993  1546611533    1539  5.618596e+12  1589175152\n",
       "556994       556994  1546612358    2364  5.618596e+12  3093143333"
      ]
     },
     "execution_count": 3,
     "metadata": {},
     "output_type": "execute_result"
    }
   ],
   "source": [
    "df.tail()"
   ]
  },
  {
   "cell_type": "code",
   "execution_count": 4,
   "metadata": {},
   "outputs": [],
   "source": [
    "df[\"NonceBinary\"] = df.Nonce.apply(lambda x : \"{0:032b}\".format(x))\n",
    "for i in range(32):\n",
    "    df[\"Bit\" + str(i)] = df.NonceBinary.apply(lambda x : int(x[i]))"
   ]
  },
  {
   "cell_type": "code",
   "execution_count": 5,
   "metadata": {},
   "outputs": [],
   "source": [
    "df = df.iloc[400000:]\n",
    "# we only analyze the blocks from height 400000 onwards."
   ]
  },
  {
   "cell_type": "code",
   "execution_count": 6,
   "metadata": {},
   "outputs": [
    {
     "data": {
      "text/plain": [
       "156995"
      ]
     },
     "execution_count": 6,
     "metadata": {},
     "output_type": "execute_result"
    }
   ],
   "source": [
    "len(df)"
   ]
  },
  {
   "cell_type": "markdown",
   "metadata": {},
   "source": [
    "# Start Analysis"
   ]
  },
  {
   "cell_type": "markdown",
   "metadata": {},
   "source": [
    "### analysis 1: analyzing triplets of bits"
   ]
  },
  {
   "cell_type": "code",
   "execution_count": 7,
   "metadata": {},
   "outputs": [
    {
     "name": "stdout",
     "output_type": "stream",
     "text": [
      "\n",
      "==================================================================================\n",
      "analyzing just on bits 2 3 4 here are the most common substrings\n",
      "0    0.141527\n",
      "2    0.140527\n",
      "5    0.140221\n",
      "1    0.139336\n",
      "4    0.138883\n",
      "3    0.138374\n",
      "6    0.111934\n",
      "7    0.049199\n",
      "dtype: float64\n",
      "==================================================================================\n",
      "\n",
      "progress report: finished processing first index up to  15\n",
      "progress report: finished processing first index up to  16\n",
      "progress report: finished processing first index up to  17\n",
      "progress report: finished processing first index up to  18\n",
      "progress report: finished processing first index up to  19\n",
      "progress report: finished processing first index up to  20\n",
      "progress report: finished processing first index up to  21\n",
      "progress report: finished processing first index up to  22\n",
      "progress report: finished processing first index up to  23\n",
      "progress report: finished processing first index up to  24\n",
      "progress report: finished processing first index up to  25\n",
      "progress report: finished processing first index up to  26\n",
      "progress report: finished processing first index up to  27\n",
      "progress report: finished processing first index up to  28\n",
      "progress report: finished processing first index up to  29\n",
      "progress report: finished processing first index up to  30\n",
      "\n",
      "==================================================================================\n",
      "analyzing just on bits 2 24 31 here are the most common substrings\n",
      "0    0.172821\n",
      "2    0.140686\n",
      "4    0.138737\n",
      "1    0.133106\n",
      "3    0.113150\n",
      "6    0.111379\n",
      "5    0.101627\n",
      "7    0.088493\n",
      "dtype: float64\n",
      "==================================================================================\n",
      "\n",
      "\n",
      "==================================================================================\n",
      "analyzing just on bits 3 24 31 here are the most common substrings\n",
      "0    0.173948\n",
      "2    0.140304\n",
      "4    0.137609\n",
      "1    0.132743\n",
      "3    0.112972\n",
      "6    0.111762\n",
      "5    0.101991\n",
      "7    0.088672\n",
      "dtype: float64\n",
      "==================================================================================\n",
      "\n",
      "\n",
      "==================================================================================\n",
      "analyzing just on bits 2 25 31 here are the most common substrings\n",
      "0    0.172407\n",
      "2    0.141100\n",
      "4    0.136660\n",
      "1    0.132284\n",
      "3    0.113972\n",
      "6    0.113456\n",
      "5    0.101545\n",
      "7    0.088576\n",
      "dtype: float64\n",
      "==================================================================================\n",
      "\n",
      "\n",
      "==================================================================================\n",
      "analyzing just on bits 3 25 31 here are the most common substrings\n",
      "0    0.171993\n",
      "2    0.142259\n",
      "4    0.137074\n",
      "1    0.132170\n",
      "3    0.113545\n",
      "6    0.112297\n",
      "5    0.101659\n",
      "7    0.089003\n",
      "dtype: float64\n",
      "==================================================================================\n",
      "\n",
      "progress report: finished processing first index up to  31\n"
     ]
    }
   ],
   "source": [
    "num = 0\n",
    "for i in range(32):\n",
    "    for j in range(i):\n",
    "        for k in range(j):\n",
    "            x = df[\"Bit\" + str(k)] * 4 + df[\"Bit\" + str(j)] * 2 + df[\"Bit\" + str(i)]\n",
    "            vc = x.value_counts(normalize=True)\n",
    "            least_frequent = vc.iloc[-1]\n",
    "            most_frequent = vc.iloc[0]\n",
    "            if least_frequent < 0.05 or most_frequent > 0.17:\n",
    "                print\n",
    "                print \"==================================================================================\"\n",
    "                print \"analyzing just on bits\", k, j, i, \"here are the most common substrings\"\n",
    "                print vc\n",
    "                print \"==================================================================================\"\n",
    "                print\n",
    "                num += 1\n",
    "            if num >= 10: break\n",
    "        if num >= 10: break\n",
    "    if i >= 15:\n",
    "        print \"progress report: finished processing first index up to \", i\n",
    "    if num >= 10: break\n"
   ]
  },
  {
   "cell_type": "markdown",
   "metadata": {},
   "source": [
    "### analysis 2: analyzing single bits"
   ]
  },
  {
   "cell_type": "code",
   "execution_count": 8,
   "metadata": {},
   "outputs": [
    {
     "data": {
      "image/png": "[encoded data removed]",
      "text/plain": [
       "<matplotlib.figure.Figure at 0x8e84780>"
      ]
     },
     "metadata": {},
     "output_type": "display_data"
    }
   ],
   "source": [
    "single_bit_means = [df[\"Bit\" + str(i)].mean() for i in range(32)]\n",
    "\n",
    "pd.Series(single_bit_means).plot()\n",
    "plt.show()"
   ]
  },
  {
   "cell_type": "markdown",
   "metadata": {},
   "source": [
    "we see that some bits are quite biased towards 0. And these bits tend to be clumped. bits 2--4 are the most dramatic, but this also happens in bits 16 and 24. Moreover these biases tend to not disappear suddenly but rather to trail off. Bits 2 and 3 are equally biased, then 4 is somewhat biased but even 5, 6 and 7 are noticeably biased. It's as if the number represented by bits 2--7 is drawn from some kind of exponential distribution. Even more strangely, the next bits seem to experience some sort of \"compensation\", with their average being larger than 0.5 (see bit 9 and 10)"
   ]
  },
  {
   "cell_type": "code",
   "execution_count": 9,
   "metadata": {},
   "outputs": [
    {
     "name": "stdout",
     "output_type": "stream",
     "text": [
      "bit 0 average: 0.497200547788\n",
      "bit 1 average: 0.496461670754\n",
      "bit 2 average: 0.440236950221\n",
      "bit 3 average: 0.440033122074\n",
      "bit 4 average: 0.467129526418\n",
      "bit 5 average: 0.488404089302\n",
      "bit 6 average: 0.490569763368\n",
      "bit 7 average: 0.495372464091\n",
      "bit 8 average: 0.499824835186\n",
      "bit 9 average: 0.500449058887\n",
      "bit 10 average: 0.50170387592\n",
      "bit 11 average: 0.499308895188\n",
      "bit 12 average: 0.499691072964\n",
      "bit 13 average: 0.502538297398\n",
      "bit 14 average: 0.500130577407\n",
      "bit 15 average: 0.499149654448\n",
      "bit 16 average: 0.459868148667\n",
      "bit 17 average: 0.486913595974\n",
      "bit 18 average: 0.492582566324\n",
      "bit 19 average: 0.495117678907\n",
      "bit 20 average: 0.500378992962\n",
      "bit 21 average: 0.501315328514\n",
      "bit 22 average: 0.502283512214\n",
      "bit 23 average: 0.497754705564\n",
      "bit 24 average: 0.453708716838\n",
      "bit 25 average: 0.457103729418\n",
      "bit 26 average: 0.480066244148\n",
      "bit 27 average: 0.490881875219\n",
      "bit 28 average: 0.493251377432\n",
      "bit 29 average: 0.489741711519\n",
      "bit 30 average: 0.461097487181\n",
      "bit 31 average: 0.43637695468\n"
     ]
    }
   ],
   "source": [
    "for i in range(32):\n",
    "    print \"bit\", i, \"average:\", single_bit_means[i]"
   ]
  },
  {
   "cell_type": "markdown",
   "metadata": {},
   "source": [
    "### analysis 3: analyzing just the bits that seem most biased on their own"
   ]
  },
  {
   "cell_type": "code",
   "execution_count": 10,
   "metadata": {},
   "outputs": [
    {
     "data": {
      "text/plain": [
       "13     1.591490\n",
       "16     1.523004\n",
       "2      1.516481\n",
       "0      1.509959\n",
       "17     1.505067\n",
       "84     1.496914\n",
       "18     1.493653\n",
       "20     1.487130\n",
       "6      1.480608\n",
       "22     1.464301\n",
       "4      1.464301\n",
       "8      1.457779\n",
       "21     1.447995\n",
       "5      1.446365\n",
       "85     1.433320\n",
       "12     1.430058\n",
       "82     1.430058\n",
       "1      1.410491\n",
       "54     1.405599\n",
       "77     1.403968\n",
       "10     1.403968\n",
       "72     1.403968\n",
       "65     1.402338\n",
       "49     1.402338\n",
       "34     1.397446\n",
       "64     1.395815\n",
       "29     1.394185\n",
       "38     1.394185\n",
       "14     1.390923\n",
       "50     1.387662\n",
       "         ...   \n",
       "55     0.549521\n",
       "71     0.528323\n",
       "23     0.523431\n",
       "39     0.513647\n",
       "251    0.510386\n",
       "87     0.485926\n",
       "47     0.481034\n",
       "95     0.472881\n",
       "63     0.448422\n",
       "31     0.443530\n",
       "135    0.384828\n",
       "199    0.383197\n",
       "183    0.383197\n",
       "167    0.370152\n",
       "191    0.353846\n",
       "151    0.350584\n",
       "103    0.337539\n",
       "175    0.332648\n",
       "215    0.329386\n",
       "127    0.321233\n",
       "143    0.306558\n",
       "119    0.304927\n",
       "159    0.303296\n",
       "223    0.301666\n",
       "111    0.301666\n",
       "247    0.295143\n",
       "231    0.285359\n",
       "255    0.285359\n",
       "239    0.269053\n",
       "207    0.264161\n",
       "Length: 256, dtype: float64"
      ]
     },
     "execution_count": 10,
     "metadata": {},
     "output_type": "execute_result"
    }
   ],
   "source": [
    "x = sum([df[\"Bit\" + str(b)] * (2 ** i) for i, b in enumerate([2, 3, 4, 16, 17, 24, 25, 31])])\n",
    "x.value_counts(normalize=True) / x.value_counts(normalize=True).mean()"
   ]
  },
  {
   "cell_type": "markdown",
   "metadata": {},
   "source": [
    "conclusion: the nonces with the following pattern:  \n",
    "**??111???????????11??????11?????1**  \n",
    "seem to be very rare, with frequency of 28% compared to what we'd expect.\n",
    "\n",
    "A couple more patterns are even more rare, but I'm guessing this is due to random fluctuations.\n"
   ]
  },
  {
   "cell_type": "code",
   "execution_count": null,
   "metadata": {},
   "outputs": [],
   "source": []
  }
 ],
 "metadata": {
  "kernelspec": {
   "display_name": "Python 2",
   "language": "python",
   "name": "python2"
  },
  "language_info": {
   "codemirror_mode": {
    "name": "ipython",
    "version": 2
   },
   "file_extension": ".py",
   "mimetype": "text/x-python",
   "name": "python",
   "nbconvert_exporter": "python",
   "pygments_lexer": "ipython2",
   "version": "2.7.15"
  }
 },
 "nbformat": 4,
 "nbformat_minor": 2
}
